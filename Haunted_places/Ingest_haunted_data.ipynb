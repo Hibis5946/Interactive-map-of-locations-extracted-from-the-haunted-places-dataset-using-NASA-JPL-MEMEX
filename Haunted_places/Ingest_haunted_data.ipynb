{
 "cells": [
  {
   "cell_type": "code",
   "execution_count": 1,
   "metadata": {},
   "outputs": [
    {
     "name": "stdout",
     "output_type": "stream",
     "text": [
      "Requirement already satisfied: ipywidgets in /root/GeoParser/Docker/myenv/lib/python3.12/site-packages (8.1.6)\n",
      "Requirement already satisfied: comm>=0.1.3 in /root/GeoParser/Docker/myenv/lib/python3.12/site-packages (from ipywidgets) (0.2.2)\n",
      "Requirement already satisfied: ipython>=6.1.0 in /root/GeoParser/Docker/myenv/lib/python3.12/site-packages (from ipywidgets) (9.1.0)\n",
      "Requirement already satisfied: traitlets>=4.3.1 in /root/GeoParser/Docker/myenv/lib/python3.12/site-packages (from ipywidgets) (5.14.3)\n",
      "Requirement already satisfied: widgetsnbextension~=4.0.14 in /root/GeoParser/Docker/myenv/lib/python3.12/site-packages (from ipywidgets) (4.0.14)\n",
      "Requirement already satisfied: jupyterlab_widgets~=3.0.14 in /root/GeoParser/Docker/myenv/lib/python3.12/site-packages (from ipywidgets) (3.0.14)\n",
      "Requirement already satisfied: decorator in /root/GeoParser/Docker/myenv/lib/python3.12/site-packages (from ipython>=6.1.0->ipywidgets) (5.2.1)\n",
      "Requirement already satisfied: ipython-pygments-lexers in /root/GeoParser/Docker/myenv/lib/python3.12/site-packages (from ipython>=6.1.0->ipywidgets) (1.1.1)\n",
      "Requirement already satisfied: jedi>=0.16 in /root/GeoParser/Docker/myenv/lib/python3.12/site-packages (from ipython>=6.1.0->ipywidgets) (0.19.2)\n",
      "Requirement already satisfied: matplotlib-inline in /root/GeoParser/Docker/myenv/lib/python3.12/site-packages (from ipython>=6.1.0->ipywidgets) (0.1.7)\n",
      "Requirement already satisfied: pexpect>4.3 in /root/GeoParser/Docker/myenv/lib/python3.12/site-packages (from ipython>=6.1.0->ipywidgets) (4.9.0)\n",
      "Requirement already satisfied: prompt_toolkit<3.1.0,>=3.0.41 in /root/GeoParser/Docker/myenv/lib/python3.12/site-packages (from ipython>=6.1.0->ipywidgets) (3.0.51)\n",
      "Requirement already satisfied: pygments>=2.4.0 in /root/GeoParser/Docker/myenv/lib/python3.12/site-packages (from ipython>=6.1.0->ipywidgets) (2.19.1)\n",
      "Requirement already satisfied: stack_data in /root/GeoParser/Docker/myenv/lib/python3.12/site-packages (from ipython>=6.1.0->ipywidgets) (0.6.3)\n",
      "Requirement already satisfied: parso<0.9.0,>=0.8.4 in /root/GeoParser/Docker/myenv/lib/python3.12/site-packages (from jedi>=0.16->ipython>=6.1.0->ipywidgets) (0.8.4)\n",
      "Requirement already satisfied: ptyprocess>=0.5 in /root/GeoParser/Docker/myenv/lib/python3.12/site-packages (from pexpect>4.3->ipython>=6.1.0->ipywidgets) (0.7.0)\n",
      "Requirement already satisfied: wcwidth in /root/GeoParser/Docker/myenv/lib/python3.12/site-packages (from prompt_toolkit<3.1.0,>=3.0.41->ipython>=6.1.0->ipywidgets) (0.2.13)\n",
      "Requirement already satisfied: executing>=1.2.0 in /root/GeoParser/Docker/myenv/lib/python3.12/site-packages (from stack_data->ipython>=6.1.0->ipywidgets) (2.2.0)\n",
      "Requirement already satisfied: asttokens>=2.1.0 in /root/GeoParser/Docker/myenv/lib/python3.12/site-packages (from stack_data->ipython>=6.1.0->ipywidgets) (3.0.0)\n",
      "Requirement already satisfied: pure-eval in /root/GeoParser/Docker/myenv/lib/python3.12/site-packages (from stack_data->ipython>=6.1.0->ipywidgets) (0.2.3)\n"
     ]
    }
   ],
   "source": [
    "!pip install ipywidgets\n",
    "import pandas as pd\n",
    "import pysolr\n",
    "import requests\n",
    "from tqdm.notebook import tqdm"
   ]
  },
  {
   "cell_type": "code",
   "execution_count": 2,
   "metadata": {},
   "outputs": [
    {
     "name": "stdout",
     "output_type": "stream",
     "text": [
      "['index', 'city', 'country', 'location', 'state', 'longitude', 'latitude', 'city_longitude', 'city_latitude', 'Optional_LATITUDE1', 'Optional_LATITUDE2', 'Optional_LONGITUDE1', 'Optional_LONGITUDE2', 'Optional_NAME1', 'Optional_NAME2', 'Optional_LATITUDE3', 'Optional_LATITUDE4', 'Optional_LONGITUDE3', 'Optional_LONGITUDE4', 'Optional_NAME3', 'Optional_NAME4']\n"
     ]
    }
   ],
   "source": [
    "df = pd.read_csv('metadata_haunted.csv')\n",
    "df\n",
    "print(df.columns.tolist())\n"
   ]
  },
  {
   "cell_type": "code",
   "execution_count": 3,
   "metadata": {},
   "outputs": [
    {
     "name": "stderr",
     "output_type": "stream",
     "text": [
      "10980it [00:00, 11905.96it/s]\n"
     ]
    }
   ],
   "source": [
    "from tqdm import tqdm\n",
    "json_docs = []\n",
    "doc_id = 0\n",
    "\n",
    "for index, row in tqdm(df.iterrows()):\n",
    "    json_doc = {}\n",
    "    \n",
    "    # Customize this string based on what you want to parse\n",
    "    text_parts = [\n",
    "        str(row.get('city', '')),\n",
    "        str(row.get('state', '')),\n",
    "        str(row.get('country', '')),\n",
    "        str(row.get('location', '')),\n",
    "        str(row.get('state', '')),\n",
    "        str(row.get('longitude', '')),\n",
    "        str(row.get('latitude', '')),\n",
    "        str(row.get('city_longitude', '')),\n",
    "        str(row.get('city_latitude', '')),\n",
    "        str(row.get('optional_LATITUDE1', '')),\n",
    "        str(row.get('optional_LATITUDE2', '')),\n",
    "        str(row.get('optional_LONGITUDE1', '')),\n",
    "        str(row.get('optional_LONGITUDE2', '')),\n",
    "        str(row.get('Optional_NAME1', '')),\n",
    "        str(row.get('Optional_NAME2', '')),\n",
    "        str(row.get('optional_LATITUDE3', '')),\n",
    "        str(row.get('optional_LATITUDE4', '')),\n",
    "        str(row.get('optional_LONGITUDE3', '')),\n",
    "        str(row.get('optional_LONGITUDE4', '')),\n",
    "        str(row.get('Optional_NAME3', '')),\n",
    "        str(row.get('Optional_NAME4', ''))        \n",
    "        \n",
    "    ]\n",
    "    \n",
    "    json_doc[\"text\"] = ' '.join(filter(None, text_parts))  # Filter out empty parts\n",
    "    json_doc[\"id\"] = str(doc_id)\n",
    "    doc_id += 1\n",
    "    json_docs.append(json_doc)\n"
   ]
  },
  {
   "cell_type": "code",
   "execution_count": 4,
   "metadata": {},
   "outputs": [],
   "source": [
    "core_name = 'haunted'\n",
    "# Create a client instance. The timeout and authentication options are not required.\n",
    "solr = pysolr.Solr('http://localhost:8983/solr/'+core_name, always_commit=True, timeout=10)"
   ]
  },
  {
   "cell_type": "code",
   "execution_count": 5,
   "metadata": {},
   "outputs": [
    {
     "name": "stderr",
     "output_type": "stream",
     "text": [
      "100%|█████████████████████████████████████████████████████████████████████████████| 10980/10980 [06:34<00:00, 27.80it/s]\n"
     ]
    }
   ],
   "source": [
    "for doc in tqdm(json_docs):\n",
    "    # How you'd index data.\n",
    "    solr.add([\n",
    "        doc\n",
    "    ])"
   ]
  },
  {
   "cell_type": "code",
   "execution_count": null,
   "metadata": {},
   "outputs": [],
   "source": []
  }
 ],
 "metadata": {
  "kernelspec": {
   "display_name": "Python 3 (ipykernel)",
   "language": "python",
   "name": "python3"
  },
  "language_info": {
   "codemirror_mode": {
    "name": "ipython",
    "version": 3
   },
   "file_extension": ".py",
   "mimetype": "text/x-python",
   "name": "python",
   "nbconvert_exporter": "python",
   "pygments_lexer": "ipython3",
   "version": "3.12.3"
  }
 },
 "nbformat": 4,
 "nbformat_minor": 4
}
